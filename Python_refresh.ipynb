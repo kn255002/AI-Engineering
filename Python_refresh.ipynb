{
 "cells": [
  {
   "cell_type": "markdown",
   "metadata": {},
   "source": [
    "### Refreshing Python Knowledge"
   ]
  },
  {
   "cell_type": "code",
   "execution_count": 34,
   "metadata": {},
   "outputs": [
    {
     "data": {
      "text/plain": [
       "10000.0"
      ]
     },
     "execution_count": 34,
     "metadata": {},
     "output_type": "execute_result"
    }
   ],
   "source": [
    "10*1e3"
   ]
  },
  {
   "cell_type": "code",
   "execution_count": 26,
   "metadata": {},
   "outputs": [
    {
     "data": {
      "text/plain": [
       "19683"
      ]
     },
     "execution_count": 26,
     "metadata": {},
     "output_type": "execute_result"
    }
   ],
   "source": [
    "3**3**2"
   ]
  },
  {
   "cell_type": "code",
   "execution_count": 5,
   "metadata": {},
   "outputs": [],
   "source": [
    "ta={x for x in range(1,10+1,2)}\n",
    "tb={x for x in range(1,10+1,2)}\n",
    "print(ta.difference(tb),ta.union(tb),type(ta))"
   ]
  },
  {
   "cell_type": "code",
   "execution_count": 3,
   "metadata": {},
   "outputs": [
    {
     "name": "stdout",
     "output_type": "stream",
     "text": [
      "dict_keys([1, 2, 3, 4, 5, 6])\n",
      "dict_values(['Khurram', 'Ayesha', 'Emaan', 'Abdullah', 'Abdulrafay', 'Fatma'])\n",
      "1 Khurram\n",
      "2 Ayesha\n",
      "3 Emaan\n",
      "4 Abdullah\n",
      "5 Abdulrafay\n",
      "6 Fatma\n"
     ]
    }
   ],
   "source": [
    "fd={1:'Khurram',2:'Ayesha',3:\"Emaan\",4:\"Abdullah\",5:\"Abdulrafay\"}\n",
    "fd[6]='Fatma'\n",
    "print(fd.keys(), fd.values(),sep=\"\\n\")\n",
    "for i,j in fd.items():\n",
    "    print(i,j)\n"
   ]
  },
  {
   "cell_type": "code",
   "execution_count": 53,
   "metadata": {},
   "outputs": [
    {
     "name": "stdout",
     "output_type": "stream",
     "text": [
      "Loop:i 0\n",
      "Loop:i 1\n",
      "Its else\n"
     ]
    }
   ],
   "source": [
    "i=5\n",
    "for i in range(2):\n",
    "    print (\"Loop:i\",i)\n",
    "else:\n",
    "        print ('Its else')"
   ]
  },
  {
   "cell_type": "code",
   "execution_count": 66,
   "metadata": {},
   "outputs": [
    {
     "name": "stdout",
     "output_type": "stream",
     "text": [
      "4\n",
      "Shifting left side = Multiplication: 8\n",
      "Shifting right side = Division: 5\n",
      "Bitwise OR left side: 6\n"
     ]
    }
   ],
   "source": [
    "print(2*2)\n",
    "print(\"Shifting left side = Multiplication:\", 2<<2) #Shifting left side = Multiplication\n",
    "print(\"Shifting right side = Division:\", 20>>2) #Shifting right side = Division\n",
    "print(\"Bitwise OR left side:\", 2|4) #Bitwise OR left side"
   ]
  },
  {
   "cell_type": "code",
   "execution_count": 77,
   "metadata": {},
   "outputs": [
    {
     "ename": "SyntaxError",
     "evalue": "unexpected EOF while parsing (<ipython-input-77-82959e12df29>, line 2)",
     "output_type": "error",
     "traceback": [
      "\u001b[1;36m  File \u001b[1;32m\"<ipython-input-77-82959e12df29>\"\u001b[1;36m, line \u001b[1;32m2\u001b[0m\n\u001b[1;33m    print(max(dc1),tochar(97)\u001b[0m\n\u001b[1;37m                             ^\u001b[0m\n\u001b[1;31mSyntaxError\u001b[0m\u001b[1;31m:\u001b[0m unexpected EOF while parsing\n"
     ]
    }
   ],
   "source": [
    "dc1=['1','2','4K','4.5','A','a']\n",
    "print(max(dc1),tochar(97)"
   ]
  },
  {
   "cell_type": "code",
   "execution_count": 82,
   "metadata": {},
   "outputs": [
    {
     "name": "stdout",
     "output_type": "stream",
     "text": [
      "Inside loop\n"
     ]
    }
   ],
   "source": [
    "var=1\n",
    "while var>=1:\n",
    "    print(\"Inside loop\")\n",
    "    var=++var\n",
    "    break\n",
    "else:\n",
    "    print(\"Outside loop\")"
   ]
  },
  {
   "cell_type": "code",
   "execution_count": 113,
   "metadata": {},
   "outputs": [
    {
     "name": "stdout",
     "output_type": "stream",
     "text": [
      "Remove 1st occurance of data i.e. 7: [1, 2, 3, 4, 5, 6]\n",
      "Del by index i.e. 5: [1, 2, 3, 4, 5]\n",
      "Pop by index i.e. last item: [1, 2, 3, 4]\n",
      "Pop by index i.e. 1-specified index: [2, 3, 4]\n"
     ]
    }
   ],
   "source": [
    "lst=[1,2,3,4,5,6,7]\n",
    "nlst=lst[2:5]\n",
    "nlst=lst[::-1]\n",
    "nlst=lst[:]\n",
    "nlst.remove(7) #Remove 1st occurance of data i.e. 7\n",
    "print(\"Remove 1st occurance of data i.e. 7:\",nlst)\n",
    "del nlst[5]\n",
    "print(\"Del by index i.e. 5:\",nlst)\n",
    "nlst.pop()\n",
    "print(\"Pop by index i.e. last item:\",nlst)\n",
    "nlst.pop(0)\n",
    "print(\"Pop by index i.e. 1-specified index:\",nlst)"
   ]
  },
  {
   "cell_type": "code",
   "execution_count": 120,
   "metadata": {},
   "outputs": [
    {
     "name": "stdout",
     "output_type": "stream",
     "text": [
      "List [] []\n"
     ]
    }
   ],
   "source": [
    "lst=[1,2,3,4,5,6,7]\n",
    "nlst=lst\n",
    "del nlst[:]\n",
    "print(\"List\",nlst, lst)"
   ]
  },
  {
   "cell_type": "code",
   "execution_count": 127,
   "metadata": {},
   "outputs": [
    {
     "name": "stdout",
     "output_type": "stream",
     "text": [
      "[['*', '*', '*', '*', '*', '*', '*', '*'], ['*', '*', '*', '*', '*', '*', '*', '*'], ['*', '*', '*', '*', '*', '*', '*', '*'], ['*', '*', '*', '*', '*', '*', '*', '*'], ['*', '*', '*', '*', '*', '*', '*', '*'], ['*', '*', '*', '*', '*', '*', '*', '*'], ['*', '*', '*', '*', '*', '*', '*', '*'], ['*', '*', '*', '*', '*', '*', '*', '*']]\n"
     ]
    }
   ],
   "source": [
    "Board=[]\n",
    "for i in range(8):\n",
    "    row=[\"*\" for i in range(8)]\n",
    "    Board.append(row)\n",
    "print(Board)"
   ]
  },
  {
   "cell_type": "code",
   "execution_count": 141,
   "metadata": {},
   "outputs": [
    {
     "name": "stdout",
     "output_type": "stream",
     "text": [
      "[[1. 1. 1. 1. 1. 1. 1. 1.]\n",
      " [1. 0. 0. 0. 0. 0. 0. 1.]\n",
      " [1. 0. 0. 0. 0. 0. 0. 1.]\n",
      " [1. 0. 0. 0. 0. 0. 0. 1.]\n",
      " [1. 0. 0. 0. 0. 0. 0. 1.]\n",
      " [1. 0. 0. 0. 0. 0. 0. 1.]\n",
      " [1. 0. 0. 0. 0. 0. 0. 1.]\n",
      " [1. 1. 1. 1. 1. 1. 1. 1.]]\n"
     ]
    }
   ],
   "source": [
    "import numpy as np\n",
    "x=np.ones((8,8))\n",
    "x[1:-1,1:-1]=0\n",
    "print(x)"
   ]
  },
  {
   "cell_type": "code",
   "execution_count": 39,
   "metadata": {},
   "outputs": [
    {
     "data": {
      "text/plain": [
       "[['*', '*', '*', '*', '*', '*', '*', '*'],\n",
       " ['*', '*', '*', '*', '*', '*', '*', '*'],\n",
       " ['*', '*', '*', '*', '*', '*', '*', '*'],\n",
       " ['*', '*', '*', '*', '*', '*', '*', '*'],\n",
       " ['*', '*', '*', '*', '*', '*', '*', '*'],\n",
       " ['*', '*', '*', '*', '*', '*', '*', '*'],\n",
       " ['*', '*', '*', '*', '*', '*', '*', '*'],\n",
       " ['*', '*', '*', '*', '*', '*', '*', '*']]"
      ]
     },
     "execution_count": 39,
     "metadata": {},
     "output_type": "execute_result"
    }
   ],
   "source": [
    "b=[]\n",
    "row=[\"*\" for i in range(8)]\n",
    "\n",
    "for i in range(8):\n",
    "    b.append(row)\n",
    "b"
   ]
  },
  {
   "cell_type": "code",
   "execution_count": 127,
   "metadata": {},
   "outputs": [
    {
     "name": "stdout",
     "output_type": "stream",
     "text": [
      "Index: 2\n",
      "['', '', 'khurram', '', '', '', '', '', '', '', '', '', '', '', '', '', '', '', '', '', '', '', '', '', '', '', '', '', '', '', '', '', '', '', '', '', '', '', '', '', '', '', '', '', '', '', '', '', '', '', '', '', '', '', '', '', '', '', '', '', '', '', '', '', '', '', '', '', '', '', '', '', '', '', '', '', '', '', '', '', '', '', '', '', '', '', '', '', '', '', '', '', '', '', '', '', '', '', '', '']\n",
      "None\n"
     ]
    }
   ],
   "source": [
    "from random import random,sample\n",
    "class Hashtable():\n",
    "    def __init__(self):\n",
    "        self.size=100\n",
    "        self.arr=['' for x in range(1,100+1)]\n",
    "    def hashfun(self,h_key):\n",
    "        return (self.size%len(h_key))\n",
    "    def setv(self,val):\n",
    "        ari=self.hashfun(val)\n",
    "        print(\"Index:\",ari)\n",
    "        self.arr[ari]=val\n",
    "        print(self.arr)\n",
    "##\n",
    "hashmap=Hashtable()\n",
    "print(hashmap.setv('khurram'))\n",
    "\n",
    "    \n",
    "        \n",
    "    \n",
    "        "
   ]
  },
  {
   "cell_type": "code",
   "execution_count": 55,
   "metadata": {},
   "outputs": [
    {
     "name": "stdout",
     "output_type": "stream",
     "text": [
      "Please enter an int:6\n",
      "SQRT: 36\n"
     ]
    }
   ],
   "source": [
    "a=int(input(\"Please enter an int:\"))\n",
    "\n",
    "sqrt=lambda a:a**2\n",
    "print(\"SQRT:\",sqrt(a))\n",
    "#\n"
   ]
  },
  {
   "cell_type": "code",
   "execution_count": 93,
   "metadata": {},
   "outputs": [
    {
     "name": "stdout",
     "output_type": "stream",
     "text": [
      "[3, 2]\n",
      "97\n",
      "65\n",
      "b\n",
      "c\n"
     ]
    }
   ],
   "source": [
    "from random import sample\n",
    "ls=[1,2,3]\n",
    "print(sample([1,2,3,4,5,6],2))    \n",
    "print(ord('a'))\n",
    "print(ord('A'))\n",
    "print(chr(98))\n",
    "print(chr(99))\n",
    "#"
   ]
  },
  {
   "cell_type": "code",
   "execution_count": null,
   "metadata": {},
   "outputs": [],
   "source": []
  },
  {
   "cell_type": "code",
   "execution_count": null,
   "metadata": {},
   "outputs": [],
   "source": []
  }
 ],
 "metadata": {
  "kernelspec": {
   "display_name": "Python 3",
   "language": "python",
   "name": "python3"
  },
  "language_info": {
   "codemirror_mode": {
    "name": "ipython",
    "version": 3
   },
   "file_extension": ".py",
   "mimetype": "text/x-python",
   "name": "python",
   "nbconvert_exporter": "python",
   "pygments_lexer": "ipython3",
   "version": "3.8.5"
  }
 },
 "nbformat": 4,
 "nbformat_minor": 4
}
