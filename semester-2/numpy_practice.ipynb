{
 "cells": [
  {
   "cell_type": "markdown",
   "metadata": {},
   "source": [
    "### numpy library excercise"
   ]
  },
  {
   "cell_type": "code",
   "execution_count": null,
   "metadata": {},
   "outputs": [],
   "source": [
    "%history"
   ]
  },
  {
   "cell_type": "code",
   "execution_count": 12,
   "metadata": {},
   "outputs": [
    {
     "name": "stdout",
     "output_type": "stream",
     "text": [
      "numpy array class ist:  aber type ist: int32\n"
     ]
    },
    {
     "data": {
      "text/plain": [
       "array([[0, 1],\n",
       "       [2, 3],\n",
       "       [4, 5],\n",
       "       [6, 7],\n",
       "       [8, 9]])"
      ]
     },
     "execution_count": 12,
     "metadata": {},
     "output_type": "execute_result"
    }
   ],
   "source": [
    "import numpy as np\n",
    "npa=np.arange(10).reshape(5,2)\n",
    "print (\"numpy array class ist:\",\" aber type ist:\",npa.dtype)\n",
    "npa"
   ]
  },
  {
   "cell_type": "code",
   "execution_count": 33,
   "metadata": {},
   "outputs": [
    {
     "data": {
      "text/plain": [
       "array([ 7,  8,  7, 10, 11])"
      ]
     },
     "execution_count": 33,
     "metadata": {},
     "output_type": "execute_result"
    }
   ],
   "source": [
    "import numpy as np\n",
    "npa=np.array([[1,2,3],[2,5,6]])\n",
    "npb=npa[(npa+5)>6]\n",
    "npb"
   ]
  },
  {
   "cell_type": "code",
   "execution_count": 2,
   "metadata": {},
   "outputs": [
    {
     "name": "stdout",
     "output_type": "stream",
     "text": [
      "[ 5.  6. 18.]\n"
     ]
    }
   ],
   "source": [
    "import numpy as np\n",
    "npa=np.array([2,5,6,0,88,28,18])\n",
    "a=npa[npa>2] # Boolean indexsing\n",
    "b=npa[[1,2,6]] # Fency indexsing\n",
    "print(np.float_(b))"
   ]
  },
  {
   "cell_type": "code",
   "execution_count": 66,
   "metadata": {},
   "outputs": [
    {
     "name": "stdout",
     "output_type": "stream",
     "text": [
      "[[1.28501504 1.42201182 1.08817235 1.08609927 1.21119769 1.45616561]\n",
      " [1.96335485 1.54742836 1.72715513 1.1548124  1.83981163 1.75162298]\n",
      " [1.2853522  1.79508312 1.9004372  1.62036148 1.73676198 1.03097753]]\n",
      "\n",
      "[[1.28501504 1.42201182]\n",
      " [1.96335485 1.54742836]]\n",
      "\n",
      "[[1.28501504 1.42201182 1.08817235 1.08609927 1.21119769 1.45616561]\n",
      " [1.96335485 1.54742836 1.72715513 1.1548124  1.83981163 1.75162298]]\n",
      "\n",
      "[[1.28501504 1.42201182 1.08817235 1.08609927 1.21119769]\n",
      " [1.96335485 1.54742836 1.72715513 1.1548124  1.83981163]\n",
      " [1.2853522  1.79508312 1.9004372  1.62036148 1.73676198]]\n",
      "\n"
     ]
    }
   ],
   "source": [
    "import numpy as np\n",
    "x=np.random.rand(3,6).astype(float)+1\n",
    "print(np.float_(x),end=\"\\n\\n\")\n",
    "print(x[0:2,:2],end=\"\\n\\n\") #First 2 rows, first 2 columns.\n",
    "print(x[0:2,:],end=\"\\n\\n\") #First 2 rows with all columns.\n",
    "print(x[:,0:-1],end=\"\\n\\n\")#All rows except last columns."
   ]
  },
  {
   "cell_type": "code",
   "execution_count": 96,
   "metadata": {},
   "outputs": [
    {
     "name": "stdout",
     "output_type": "stream",
     "text": [
      "[[1. 1. 1. 1. 1.]\n",
      " [1. 1. 1. 1. 1.]\n",
      " [1. 1. 1. 1. 1.]\n",
      " [1. 1. 1. 1. 1.]\n",
      " [1. 1. 1. 1. 1.]]\n",
      "\n",
      "[[1 1 1 1 1]\n",
      " [1 0 0 0 1]\n",
      " [1 0 0 0 1]\n",
      " [1 0 0 0 1]\n",
      " [1 1 1 1 1]]\n",
      "\n"
     ]
    }
   ],
   "source": [
    "import numpy as np\n",
    "npa=np.ones((5,5))\n",
    "print(npa,end=\"\\n\\n\")\n",
    "npa[1:-1,1:-1]=0\n",
    "print(np.int_(npa),end=\"\\n\\n\")"
   ]
  },
  {
   "cell_type": "code",
   "execution_count": 121,
   "metadata": {},
   "outputs": [
    {
     "name": "stdout",
     "output_type": "stream",
     "text": [
      "[[['YES']\n",
      "  ['YES']]\n",
      "\n",
      " [['YES']\n",
      "  ['YES']]\n",
      "\n",
      " [['No']\n",
      "  ['YES']]]\n"
     ]
    }
   ],
   "source": [
    "import numpy as np\n",
    "npa=np.array([11,2,6,3,0,4])\n",
    "npa=npa.reshape((3,2,-1))\n",
    "#print(npa.flatten() )\n",
    "npa=np.where(npa>1,'YES','No')\n",
    "print(npa)"
   ]
  },
  {
   "cell_type": "code",
   "execution_count": 14,
   "metadata": {},
   "outputs": [
    {
     "ename": "ValueError",
     "evalue": "p < 0, p > 1 or p is NaN",
     "output_type": "error",
     "traceback": [
      "\u001b[1;31m---------------------------------------------------------------------------\u001b[0m",
      "\u001b[1;31mValueError\u001b[0m                                Traceback (most recent call last)",
      "\u001b[1;32m<ipython-input-14-585b95fbc04d>\u001b[0m in \u001b[0;36m<module>\u001b[1;34m\u001b[0m\n\u001b[0;32m      1\u001b[0m \u001b[1;32mimport\u001b[0m \u001b[0mnumpy\u001b[0m \u001b[1;32mas\u001b[0m \u001b[0mnp\u001b[0m\u001b[1;33m\u001b[0m\u001b[1;33m\u001b[0m\u001b[0m\n\u001b[1;32m----> 2\u001b[1;33m \u001b[0mnp\u001b[0m\u001b[1;33m.\u001b[0m\u001b[0mrandom\u001b[0m\u001b[1;33m.\u001b[0m\u001b[0mbinomial\u001b[0m\u001b[1;33m(\u001b[0m\u001b[1;36m4\u001b[0m\u001b[1;33m,\u001b[0m\u001b[1;36m4\u001b[0m\u001b[1;33m)\u001b[0m\u001b[1;33m\u001b[0m\u001b[1;33m\u001b[0m\u001b[0m\n\u001b[0m",
      "\u001b[1;32mmtrand.pyx\u001b[0m in \u001b[0;36mnumpy.random.mtrand.RandomState.binomial\u001b[1;34m()\u001b[0m\n",
      "\u001b[1;32m_common.pyx\u001b[0m in \u001b[0;36mnumpy.random._common.check_constraint\u001b[1;34m()\u001b[0m\n",
      "\u001b[1;31mValueError\u001b[0m: p < 0, p > 1 or p is NaN"
     ]
    }
   ],
   "source": [
    "import numpy as np\n",
    "np.random.binomial(5zzzzzzzza,n)"
   ]
  },
  {
   "cell_type": "code",
   "execution_count": null,
   "metadata": {},
   "outputs": [],
   "source": []
  }
 ],
 "metadata": {
  "kernelspec": {
   "display_name": "Python 3",
   "language": "python",
   "name": "python3"
  },
  "language_info": {
   "codemirror_mode": {
    "name": "ipython",
    "version": 3
   },
   "file_extension": ".py",
   "mimetype": "text/x-python",
   "name": "python",
   "nbconvert_exporter": "python",
   "pygments_lexer": "ipython3",
   "version": "3.7.3"
  }
 },
 "nbformat": 4,
 "nbformat_minor": 4
}
