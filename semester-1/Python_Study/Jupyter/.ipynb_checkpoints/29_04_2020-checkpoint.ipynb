{
 "cells": [
  {
   "cell_type": "code",
   "execution_count": 18,
   "metadata": {},
   "outputs": [
    {
     "name": "stdout",
     "output_type": "stream",
     "text": [
      "Khurram Nazir a Teradata employee with Quicklook-id: kn255002 His age is:42\n"
     ]
    }
   ],
   "source": [
    "import os\n",
    "v_name= \"Khurram Nazir a Teradata employee with Quicklook-id:\"\n",
    "print (v_name,os.getlogin(),\"His age is:\" + str(42))"
   ]
  },
  {
   "cell_type": "code",
   "execution_count": 15,
   "metadata": {},
   "outputs": [
    {
     "ename": "SyntaxError",
     "evalue": "invalid syntax (<ipython-input-15-d900f69af948>, line 1)",
     "output_type": "error",
     "traceback": [
      "\u001b[1;36m  File \u001b[1;32m\"<ipython-input-15-d900f69af948>\"\u001b[1;36m, line \u001b[1;32m1\u001b[0m\n\u001b[1;33m    print(\"Khurram\",\"Nazir\" sep=' ', end='\\n', file=sys.stdout, flush=False)\u001b[0m\n\u001b[1;37m                              ^\u001b[0m\n\u001b[1;31mSyntaxError\u001b[0m\u001b[1;31m:\u001b[0m invalid syntax\n"
     ]
    }
   ],
   "source": [
    "print(\"Khurram\",\"Nazir\" sep=' ', end='\\n', file=sys.stdout, flush=False)"
   ]
  },
  {
   "cell_type": "code",
   "execution_count": 33,
   "metadata": {},
   "outputs": [
    {
     "name": "stdout",
     "output_type": "stream",
     "text": [
      "1.5\n",
      "1\n"
     ]
    }
   ],
   "source": [
    "print (3/2)\n",
    "print (3//2)"
   ]
  },
  {
   "cell_type": "code",
   "execution_count": 42,
   "metadata": {},
   "outputs": [
    {
     "name": "stdout",
     "output_type": "stream",
     "text": [
      "its Equal.\n",
      "Inside - IF\n",
      "Out of if\n"
     ]
    }
   ],
   "source": [
    "if (30/10==3):\n",
    "    print (\"its Equal.\")\n",
    "    print (\"Inside - IF\")\n",
    "print (\"Out of if\")\n",
    "    "
   ]
  },
  {
   "cell_type": "code",
   "execution_count": 44,
   "metadata": {},
   "outputs": [
    {
     "name": "stdout",
     "output_type": "stream",
     "text": [
      "Hello, world! From Khurram\n"
     ]
    }
   ],
   "source": [
    "Greetings=\"Hello, world!\"\n",
    "print (Greetings+\" From Khurram\")"
   ]
  },
  {
   "cell_type": "code",
   "execution_count": 1,
   "metadata": {},
   "outputs": [
    {
     "name": "stdout",
     "output_type": "stream",
     "text": [
      "Calculater by KN\n",
      "Please enter a number/string55\n",
      "Please enter another number/string88\n",
      "Addition/Concatenate:  5588\n"
     ]
    }
   ],
   "source": [
    "print(\"Calculater by KN\")\n",
    "a=input(\"Please enter a number/string\")\n",
    "b=input(\"Please enter another number/string\")\n",
    "print(\"Addition/Concatenate: \", a+b)\n",
    "if (a+b) == 10:\n",
    "  print (\"Equal\")"
   ]
  },
  {
   "cell_type": "code",
   "execution_count": null,
   "metadata": {},
   "outputs": [],
   "source": []
  }
 ],
 "metadata": {
  "kernelspec": {
   "display_name": "Python 3",
   "language": "python",
   "name": "python3"
  },
  "language_info": {
   "codemirror_mode": {
    "name": "ipython",
    "version": 3
   },
   "file_extension": ".py",
   "mimetype": "text/x-python",
   "name": "python",
   "nbconvert_exporter": "python",
   "pygments_lexer": "ipython3",
   "version": "3.7.3"
  }
 },
 "nbformat": 4,
 "nbformat_minor": 2
}
